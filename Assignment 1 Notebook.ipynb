{
 "cells": [
  {
   "cell_type": "markdown",
   "metadata": {},
   "source": [
    "# CSI 4142 - Introduction to Data Science\n",
    "# Assignment 1: Exploratory Data Analysis\n",
    "\n",
    "Shacha Parker (300235525)\\\n",
    "Callum Frodsham and (300199446)\\\n",
    "Group 79"
   ]
  },
  {
   "cell_type": "code",
   "execution_count": 40,
   "metadata": {},
   "outputs": [],
   "source": [
    "# Initial Imports. May not all be useful, but worth\n",
    "import pandas as pd\n",
    "import matplotlib.pyplot as plt\n",
    "import numpy as np\n",
    "import os\n",
    "import kaggle\n",
    "import kagglehub\n"
   ]
  },
  {
   "cell_type": "markdown",
   "metadata": {},
   "source": [
    "## Analysis Reasoning\n",
    "We're doing the EDA on the following two datasets to familiarize ourselves with the process. (more text here)"
   ]
  },
  {
   "cell_type": "markdown",
   "metadata": {},
   "source": [
    "<h1 >Dataset 1: Mobile Device Usage and User Behavior</h1>\n",
    "Author: Vala Khorasani\n",
    "<br>\n",
    "Purpose: The purpose of this dataset is to provide insights pertaining to mobile device user behaviour and the connection to their usage patterns.\n",
    "<br>\n",
    "Shape: This Data set is composed of 11 Columns, and 700 rows.\n",
    "<br><br>\n",
    "Link: <a href=\"https://www.kaggle.com/datasets/valakhorasani/mobile-device-usage-and-user-behavior-dataset\"> Mobile Device Usage and User Behavior</a>\n",
    "<br>\n",
    "<h3>Dataset Feature List:</h3>\n",
    "<ol>\n",
    "    <li>User ID\n",
    "    <br>\n",
    "    Feature Type: Categorical - Nominal\n",
    "    <br>\n",
    "    Description: The User ID is a unique ID that is assigned to each mobile device user to track their mobile device usage individually. There are 700 entries, labeled '1' to '700'.\n",
    "        </li>\n",
    "    <br>\n",
    "    <li>Device Model<br>\n",
    "    Feature Type: Categorical - Nominal<br>\n",
    "    Description: Model of the User's smartphone.\n",
    "    </li>\n",
    "    <br>\n",
    "    <li>Operating System<br>\n",
    "    Feature Type: Categorical - Nominal<br>\n",
    "    Description:Operating system running on the mobile device. Only Android or iOS.\n",
    "    </li>\n",
    "    <br>\n",
    "    <li>App Usage Time<br>\n",
    "    Feature Type: Quantitative - Continuous<br>\n",
    "    Description: Total daily time spent using mobile applications, measured in minutes\n",
    "    </li>\n",
    "    <br>\n",
    "    <li>Screen On Time<br>\n",
    "    Feature Type: Quantitative - Continuous<br>\n",
    "    Description: Average daily duration the screen is active, measured in hours\n",
    "    </li>\n",
    "    <br>\n",
    "    <li>Battery Drain<br>\n",
    "    Feature Type: Quantitative - Continuous<br>\n",
    "    Description: Amount of battery consumed daily, measured in milliamp hours (mAh)\n",
    "    </li>\n",
    "    <br>\n",
    "    <li>Number of Apps Installed<br>\n",
    "    Feature Type: Quantitative - Discrete<br>\n",
    "    Description: Total number of applications installed on the device\n",
    "    </li>\n",
    "    <br>\n",
    "    <li>Data Usage<br>\n",
    "    Feature Type: Quantitative - Continuous<br>\n",
    "    Description: Daily mobile data consumption, measured in megabytes (MB)\n",
    "    </li>\n",
    "    <br>\n",
    "    <li>Age<br>\n",
    "    Feature Type: Quantitative - Discrete<br>\n",
    "    Description: Age of the user in years\n",
    "        </li>\n",
    "    <br>\n",
    "    <li>Gender<br>\n",
    "    Feature Type: Categorical - Nominal (Male/Female)<br>\n",
    "    Description: Gender of the user\n",
    "    </li>\n",
    "    <br>\n",
    "    <li>User Behaviour Class<br>\n",
    "    Feature: Categorical - Ordinal<br>\n",
    "    Description: Classification of user behavior based on usage patterns (1 to 5).\n",
    "    </li>\n",
    "</ol>"
   ]
  },
  {
   "cell_type": "code",
   "execution_count": 41,
   "metadata": {},
   "outputs": [
    {
     "name": "stdout",
     "output_type": "stream",
     "text": [
      "Path to dataset files: C:\\Users\\larry\\.cache\\kagglehub\\datasets\\valakhorasani\\mobile-device-usage-and-user-behavior-dataset\\versions\\1\n"
     ]
    }
   ],
   "source": [
    "# Import dataset from Kaggle\n",
    "# Download latest version\n",
    "mobileDevicePath = kagglehub.dataset_download(\"valakhorasani/mobile-device-usage-and-user-behavior-dataset\")\n",
    "\n",
    "print(\"Path to dataset files:\", mobileDevicePath)"
   ]
  },
  {
   "cell_type": "code",
   "execution_count": 42,
   "metadata": {},
   "outputs": [],
   "source": [
    "# generate descriptions of the dataset's features\n"
   ]
  },
  {
   "cell_type": "markdown",
   "metadata": {},
   "source": [
    "<h1>Dataset 2: E-Commerce Shipping Data</h1>\n",
    "Author: Prachi Golpani\n",
    "<br>\n",
    "Purpose: The purpose of this dataset is to provide insights based on the shopping data of an international e-commerce business' customers.\n",
    "<br>\n",
    "Shape: This Data set is composed of 12 Columns, and 10999 rows.\n",
    "<br><br>\n",
    "Link:\n",
    "<a href=\"https://www.kaggle.com/datasets/prachi13/customer-analytics\"> E-Commerce Shipping Data</a>\n",
    "<br>\n",
    "<h3>Dataset Feature List: </h3>\n",
    "<ol>\n",
    "    <li>Customer ID:\n",
    "    <br>\n",
    "    Feature Type: Categorical - Nominal\n",
    "    <br>\n",
    "    Description: The Customer ID is a unique ID that is assigned to each customer, allowing the E-commerce business to track the customer's purchases. There are 10999 entries, ranging from 1-10999.\n",
    "    </li>\n",
    "    <br>\n",
    "    <li>Warehouse Block:\n",
    "    <br>\n",
    "    Feature Type: Categorical - Nominal\n",
    "    <br>\n",
    "    Description: A Warehouse block is a division of the shipping e-commerce business' warehouse. There are 5 blocks labelled A,B,C,D,F. The specific block designates where a product was stored in the e-commerce warehouse. \n",
    "        </li>\n",
    "    <br>\n",
    "    <li>Mode of Shipment:\n",
    "    <br>\n",
    "    Feature Type: Categorical - Nominal\n",
    "    <br>\n",
    "    Description: The mode of shipment describes the shipping method used to deliver the product to the customer. There are 3 modes of shipment: road, flight, and ship. \n",
    "        </li>\n",
    "    <br>\n",
    "    <li>Customer Care Calls:\n",
    "    <br>\n",
    "    Feature Type: Numerical - Discrete\n",
    "    <br>\n",
    "    Description: Customer Care Calls provides the number of times a customer called the e-commerce business to inquire about the product, and anything related to the process of purchase and delivery.\n",
    "        </li>\n",
    "    <br>\n",
    "    <li>Customer Rating:\n",
    "    <br>\n",
    "    Feature Type: Categorical - Ordinal\n",
    "    <br>\n",
    "    Description: The customer rating represents the rating given by the customer to the e-commerce business regarding the product(s) purchased, the delivery experience, and the ordering process for that specific order. The rating ranges from 1-5, 1 indicating the most negative experience, and 5 being the most positive experience.\n",
    "        </li>\n",
    "    <br>\n",
    "    <li>Cost of Product:\n",
    "    <br>\n",
    "    Feature Type: Numerical - Continuous\n",
    "    <br>\n",
    "    Description: The cost of the product is the value of the product in USD. \n",
    "        </li>\n",
    "    <br>\n",
    "    <li>Prior Purchases:\n",
    "    <br>\n",
    "    Feature Type: Numerical - Discrete\n",
    "    <br>\n",
    "    Description: Prior Purchases represents the number of times a customer has previously purchased a product from the e-commerce business.\n",
    "        </li>\n",
    "    <br>\n",
    "    <li>Product Importance:\n",
    "    <br>\n",
    "    Feature Type: Categorical - Ordinal\n",
    "    <br>\n",
    "    Description: Product Importance is the level of importance the e-commerce business has placed on a specific product. The importance scale has values: low, medium, and high. Low denoting the lowest importance, medium denoting the mid level importance, and high denoting the most important.\n",
    "        </li>\n",
    "    <br>\n",
    "    <li>Gender:\n",
    "    <br>\n",
    "    Feature Type: Categorical - Nominal (Male/Female)\n",
    "    <br>\n",
    "    Description: The Gender of the customer.\n",
    "        </li>\n",
    "    <br>\n",
    "    <li>Discount Offered:\n",
    "    <br>\n",
    "    Feature Type: Numerical - Discrete\n",
    "    <br>\n",
    "    Description: Discount offered is the percentage reduction in price of the product purchased.\n",
    "        </li>\n",
    "    <br>\n",
    "    <li>Weight In Grams:\n",
    "    <br>\n",
    "    Feature Type: Numerical - Continuous\n",
    "    <br>\n",
    "    Description: The weight of the product measured in grams.\n",
    "        </li>\n",
    "    <br>\n",
    "    <li>Reached on Time:\n",
    "    <br>\n",
    "    Feature Type: Categorical - Nominal (0/1)\n",
    "    <br>\n",
    "    Description: A binary value indicating if the product reached its intended destination on time. 0 means the product did not reach on time, and 1 means that the product did.\n",
    "        </li>\n",
    "</ol>"
   ]
  },
  {
   "cell_type": "code",
   "execution_count": 50,
   "metadata": {},
   "outputs": [
    {
     "name": "stdout",
     "output_type": "stream",
     "text": [
      "Path to dataset:  C:\\Users\\larry\\.cache\\kagglehub\\datasets\\prachi13\\customer-analytics\\versions\\1\n"
     ]
    }
   ],
   "source": [
    "# Retrieve Latest version of the e-commerce dataset from kaggle\n",
    "ec_dataset_path = kagglehub.dataset_download(\"prachi13/customer-analytics\")\n",
    "print(\"Path to dataset: \", ec_dataset_path)\n",
    "\n",
    "# Get the path of the dataset csv\n",
    "# Walk along the directory to get the csv filename\n",
    "for root, dirs, files in os.walk(ec_dataset_path):\n",
    "    for filename in files:\n",
    "        ec_dataset_path = os.path.join(ec_dataset_path, filename)\n",
    "\n",
    "# Converting the csv into dataframe\n",
    "ec_dataframe = pd.read_csv(ec_dataset_path)"
   ]
  },
  {
   "cell_type": "markdown",
   "metadata": {},
   "source": [
    "<h2>E-Commerce Dataset Insights:</h2>\n",
    "<h5>Insight 1:</h5>\n",
    "Filler text blah blah blah insight insight filler"
   ]
  },
  {
   "cell_type": "code",
   "execution_count": 54,
   "metadata": {},
   "outputs": [
    {
     "data": {
      "image/png": "[encoded data removed]",
      "text/plain": [
       "<Figure size 640x480 with 1 Axes>"
      ]
     },
     "metadata": {},
     "output_type": "display_data"
    }
   ],
   "source": [
    "# Use the newly created dataframe to create a histogram of the \n",
    "plt.hist(ec_dataframe[\"Cost_of_the_Product\"])\n",
    "plt.title(\"Number of Products Sold \")\n",
    "plt.xlabel(\"Product Cost\")\n",
    "plt.ylabel(\"Number of Products\")\n",
    "plt.show()"
   ]
  }
 ],
 "metadata": {
  "kernelspec": {
   "display_name": "venv",
   "language": "python",
   "name": "python3"
  },
  "language_info": {
   "codemirror_mode": {
    "name": "ipython",
    "version": 3
   },
   "file_extension": ".py",
   "mimetype": "text/x-python",
   "name": "python",
   "nbconvert_exporter": "python",
   "pygments_lexer": "ipython3",
   "version": "3.12.4"
  }
 },
 "nbformat": 4,
 "nbformat_minor": 2
}
