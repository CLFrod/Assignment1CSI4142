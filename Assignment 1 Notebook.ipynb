{
 "cells": [
  {
   "cell_type": "markdown",
   "metadata": {},
   "source": [
    "# CSI 4142 - Introduction to Data Science\n",
    "# Assignment 1: Exploratory Data Analysis\n",
    "\n",
    "Shacha Parker (300235525)\\\n",
    "Callum Frodsham and (300199446)\\\n",
    "Group 79 <- Are there even group numbers?"
   ]
  },
  {
   "cell_type": "code",
   "execution_count": 12,
   "metadata": {},
   "outputs": [],
   "source": [
    "# Initial Imports. May not all be useful, but worth\n",
    "import pandas as pd\n",
    "import matplotlib as plt\n",
    "import numpy as np\n",
    "import os\n",
    "import kaggle\n",
    "import kagglehub\n"
   ]
  },
  {
   "cell_type": "markdown",
   "metadata": {},
   "source": [
    "## Analysis Reasoning\n",
    "We're doing the EDA on the following two datasets to familiarize ourselves with the process. (more text here)"
   ]
  },
  {
   "cell_type": "markdown",
   "metadata": {},
   "source": [
    "<h1 >Dataset 1: Mobile Device Usage and User Behavior</h1>\n",
    "Author: Vala Khorasani\n",
    "<br>\n",
    "Purpose: The purpose of this dataset is to provide insights pertaining to mobile device user behaviour and the connection to their usage patterns.\n",
    "<br>\n",
    "Shape: This Data set is composed of 11 Columns, and 700 rows.\n",
    "<br><br>\n",
    "Link: <a href=\"https://www.kaggle.com/datasets/valakhorasani/mobile-device-usage-and-user-behavior-dataset\"> Mobile Device Usage and User Behavior</a>\n",
    "<br><br>\n",
    "Dataset Feature List:\n",
    "<ol>\n",
    "    <li>User ID:\n",
    "    <br>\n",
    "    Feature Type: Categorical - Ordinal\n",
    "    <br>\n",
    "    Description: The User ID is a unique ID that is assigned to each customer, allowing the E-commerce business to track the customer's purchases. There are 700 entries, labeled '1' to '700'.\n",
    "        </li>\n",
    "    <li>Device Model:<br>\n",
    "    Feature Type: Categorical - Nominal<br>\n",
    "    Description: Model of the User's smartphone.\n",
    "    </li>\n",
    "    <li>Operating System:<br>\n",
    "    Feature Type: Categorical - Nominal<br>\n",
    "    Description:Operating system running on the mobile device. Only Android or iOS.\n",
    "    </li>\n",
    "    <li>App Usage Time<br>\n",
    "    Feature Type: Quantitative - Continuous<br>\n",
    "    Description: Total daily time spent using mobile applications, measured in minutes\n",
    "    </li>\n",
    "    <li>Screen On Time<br>\n",
    "    Feature Type: Quantitative - Continuous<br>\n",
    "    Description: Average daily duration the screen is active, measured in hours\n",
    "    </li>\n",
    "    <li>Battery Drain<br>\n",
    "    Feature Type: Quantitative - Continuous<br>\n",
    "    Description: Amount of battery consumed daily, measured in milliamp hours (mAh)\n",
    "    </li>\n",
    "    <li>Number of Apps Installed<br>\n",
    "    Feature Type: Quantitative - Discrete<br>\n",
    "    Description: Total number of applications installed on the device\n",
    "    </li>\n",
    "    <li>Data Usage<br>\n",
    "    Feature Type: Quantitative - Continuous<br>\n",
    "    Description: Daily mobile data consumption, measured in megabytes (MB)\n",
    "    </li>\n",
    "    <li>Age<br>\n",
    "    Feature Type: Quantitative - Discrete\n",
    "    Description: Age of the user in years\n",
    "    </li>\n",
    "    <li>Gender<br>\n",
    "    Feature Type: Categorical - Nominal (Male/Female)\n",
    "    Description: Gender of the user\n",
    "    </li>\n",
    "    <li>User Behaviour Class:\n",
    "    Feature: Categorical - Ordinal\n",
    "    Description: Classification of user behavior based on usage patterns (1 to 5).\n",
    "    </li>\n",
    "</ol>"
   ]
  },
  {
   "cell_type": "code",
   "execution_count": 13,
   "metadata": {},
   "outputs": [
    {
     "name": "stdout",
     "output_type": "stream",
     "text": [
      "Path to dataset files: /home/pixellitz/.cache/kagglehub/datasets/valakhorasani/mobile-device-usage-and-user-behavior-dataset/versions/1\n"
     ]
    }
   ],
   "source": [
    "# Import dataset from Kaggle\n",
    "# Download latest version\n",
    "mobileDevicePath = kagglehub.dataset_download(\"valakhorasani/mobile-device-usage-and-user-behavior-dataset\")\n",
    "\n",
    "print(\"Path to dataset files:\", mobileDevicePath)"
   ]
  },
  {
   "cell_type": "code",
   "execution_count": 14,
   "metadata": {},
   "outputs": [
    {
     "name": "stdout",
     "output_type": "stream",
     "text": [
      "/home/pixellitz/.cache/kagglehub/datasets/valakhorasani/mobile-device-usage-and-user-behavior-dataset/versions/1\n"
     ]
    }
   ],
   "source": [
    "# generate descriptions of the dataset's features\n"
   ]
  },
  {
   "cell_type": "markdown",
   "metadata": {},
   "source": [
    "<h1>Dataset 2: E-Commerce Shipping Data</h1>\n",
    "Author: Prachi Golpani\n",
    "<br>\n",
    "Purpose: The purpose of this dataset is to provide insights based on the shopping data of an international e-commerce business' customers.\n",
    "<br>\n",
    "Shape: This Data set is composed of 12 Columns, and 10999 rows.\n",
    "<br><br>\n",
    "Link:\n",
    "<a href=\"https://www.kaggle.com/datasets/prachi13/customer-analytics\"> E-Commerce Shipping Data</a>\n",
    "<br><br>\n",
    "Dataset Feature List:\n",
    "<ol>\n",
    "    <li></li>\n",
    "    <li></li>\n",
    "    <li></li>\n",
    "    <li></li>\n",
    "    <li></li>\n",
    "    <li></li>\n",
    "    <li></li>\n",
    "    <li></li>\n",
    "    <li></li>\n",
    "    <li></li>\n",
    "    <li></li>\n",
    "    <li></li>\n",
    "</ol>"
   ]
  }
 ],
 "metadata": {
  "kernelspec": {
   "display_name": "Python 3",
   "language": "python",
   "name": "python3"
  },
  "language_info": {
   "codemirror_mode": {
    "name": "ipython",
    "version": 3
   },
   "file_extension": ".py",
   "mimetype": "text/x-python",
   "name": "python",
   "nbconvert_exporter": "python",
   "pygments_lexer": "ipython3",
   "version": "3.12.8"
  }
 },
 "nbformat": 4,
 "nbformat_minor": 2
}
