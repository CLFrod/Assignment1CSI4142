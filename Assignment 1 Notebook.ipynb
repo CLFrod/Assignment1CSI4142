{
 "cells": [
  {
   "cell_type": "markdown",
   "metadata": {},
   "source": [
    "# CSI 4142 - Introduction to Data Science\n",
    "# Assignment 1: Exploratory Data Analysis\n",
    "\n",
    "Shacha Parker (300235525)\\\n",
    "Callum Frodsham and (300199446)\\\n",
    "Group 79"
   ]
  },
  {
   "cell_type": "code",
   "execution_count": null,
   "metadata": {},
   "outputs": [],
   "source": [
    "# Initial Imports. May not all be useful, but worth\n",
    "import pandas as pd\n",
    "import matplotlib.pyplot as plt\n",
    "import seaborn as sns\n",
    "import numpy as np\n",
    "import os\n",
    "import kagglehub"
   ]
  },
  {
   "cell_type": "markdown",
   "metadata": {},
   "source": [
    "## Analysis Reasoning\n",
    "We're doing the EDA on the following two datasets to familiarize ourselves with the process. (more text here)"
   ]
  },
  {
   "cell_type": "markdown",
   "metadata": {},
   "source": [
    "<h1 >Dataset 1: Mobile Device Usage and User Behavior</h1>\n",
    "Author: Vala Khorasani\n",
    "<br>\n",
    "Purpose: The purpose of this dataset is to provide insights pertaining to mobile device user behaviour and the connection to their usage patterns.\n",
    "<br>\n",
    "Shape: This Data set is composed of 11 Columns, and 700 rows.\n",
    "<br><br>\n",
    "Link: <a href=\"https://www.kaggle.com/datasets/valakhorasani/mobile-device-usage-and-user-behavior-dataset\"> Mobile Device Usage and User Behavior</a>\n",
    "<br>\n",
    "Note: This dataset skews heavily towards Android users. iOS users make up only 1/5th of the dataset, and iOS data is only gathered from iPhone 12 users. Depending on where in the world this data was gathered and where it will be made use of, it may not accurately reflect the demographics of, for example, the United States.\n",
    "\n",
    "\n",
    "<br>\n",
    "<h3>Dataset Feature List:</h3>\n",
    "<ol>\n",
    "    <li>User ID\n",
    "    <br>\n",
    "    Feature Type: Categorical - Nominal\n",
    "    <br>\n",
    "    Description: The User ID is a unique ID that is assigned to each mobile device user to track their mobile device usage individually. There are 700 entries, labeled '1' to '700'.\n",
    "        </li>\n",
    "    <br>\n",
    "    <li>Device Model<br>\n",
    "    Feature Type: Categorical - Nominal<br>\n",
    "    Description: Model of the User's smartphone.\n",
    "    </li>\n",
    "    <br>\n",
    "    <li>Operating System<br>\n",
    "    Feature Type: Categorical - Nominal<br>\n",
    "    Description:Operating system running on the mobile device. Only Android or iOS.\n",
    "    </li>\n",
    "    <br>\n",
    "    <li>App Usage Time<br>\n",
    "    Feature Type: Quantitative - Continuous<br>\n",
    "    Description: Total daily time spent using mobile applications, measured in minutes\n",
    "    </li>\n",
    "    <br>\n",
    "    <li>Screen On Time<br>\n",
    "    Feature Type: Quantitative - Continuous<br>\n",
    "    Description: Average daily duration the screen is active, measured in hours\n",
    "    </li>\n",
    "    <br>\n",
    "    <li>Battery Drain<br>\n",
    "    Feature Type: Quantitative - Continuous<br>\n",
    "    Description: Amount of battery consumed daily, measured in milliamp hours (mAh)\n",
    "    </li>\n",
    "    <br>\n",
    "    <li>Number of Apps Installed<br>\n",
    "    Feature Type: Quantitative - Discrete<br>\n",
    "    Description: Total number of applications installed on the device\n",
    "    </li>\n",
    "    <br>\n",
    "    <li>Data Usage<br>\n",
    "    Feature Type: Quantitative - Continuous<br>\n",
    "    Description: Daily mobile data consumption, measured in megabytes (MB)\n",
    "    </li>\n",
    "    <br>\n",
    "    <li>Age<br>\n",
    "    Feature Type: Quantitative - Discrete<br>\n",
    "    Description: Age of the user in years\n",
    "        </li>\n",
    "    <br>\n",
    "    <li>Gender<br>\n",
    "    Feature Type: Categorical - Nominal (Male/Female)<br>\n",
    "    Description: Gender of the user\n",
    "    </li>\n",
    "    <br>\n",
    "    <li>User Behaviour Class<br>\n",
    "    Feature: Categorical - Ordinal<br>\n",
    "    Description: Classification of user behavior based on usage patterns (1 to 5).\n",
    "    </li>\n",
    "</ol>"
   ]
  },
  {
   "cell_type": "code",
   "execution_count": null,
   "metadata": {},
   "outputs": [],
   "source": [
    "# Import dataset from Kaggle\n",
    "# Download latest version\n",
    "mobileDeviceDirectory = kagglehub.dataset_download(\"valakhorasani/mobile-device-usage-and-user-behavior-dataset\")\n",
    "\n",
    "print(\"Path to dataset files:\", mobileDeviceDirectory)\n",
    "\n",
    "mobileDeviceCSV = mobileDeviceDirectory + \"/user_behavior_dataset.csv\"\n",
    "\n",
    "print(\"Path to dataset files:\", mobileDeviceCSV)"
   ]
  },
  {
   "cell_type": "code",
   "execution_count": null,
   "metadata": {},
   "outputs": [],
   "source": [
    "# generate descriptions of the dataset's features\n",
    "data = pd.read_csv(mobileDeviceCSV)\n",
    "\n",
    "display(data)\n",
    "data.describe()"
   ]
  },
  {
   "cell_type": "code",
   "execution_count": null,
   "metadata": {},
   "outputs": [],
   "source": [
    "print(data.iloc[0])"
   ]
  },
  {
   "cell_type": "markdown",
   "metadata": {},
   "source": [
    "##### Insight 1 (Insight Type):\n",
    "\n",
    "Number of Apps seems to directly decide the User Behaviour."
   ]
  },
  {
   "cell_type": "code",
   "execution_count": null,
   "metadata": {},
   "outputs": [],
   "source": [
    "fig = plt.figure(figsize=(15, 5))\n",
    "\n",
    "sns.countplot(x='User Behavior Class', hue='App Usage Time (min/day)', data=data)"
   ]
  },
  {
   "cell_type": "markdown",
   "metadata": {},
   "source": [
    "<h5> Insight 2 (Insight Type):</h5>"
   ]
  },
  {
   "cell_type": "code",
   "execution_count": null,
   "metadata": {},
   "outputs": [],
   "source": [
    "#insight code 10"
   ]
  },
  {
   "cell_type": "markdown",
   "metadata": {},
   "source": [
    "<h5> Insight 3 (Insight Type):</h5>"
   ]
  },
  {
   "cell_type": "code",
   "execution_count": null,
   "metadata": {},
   "outputs": [],
   "source": [
    "#insight code 10"
   ]
  },
  {
   "cell_type": "markdown",
   "metadata": {},
   "source": [
    "<h5> Insight 4 (Insight Type):</h5>"
   ]
  },
  {
   "cell_type": "code",
   "execution_count": null,
   "metadata": {},
   "outputs": [],
   "source": [
    "#insight code 10"
   ]
  },
  {
   "cell_type": "markdown",
   "metadata": {},
   "source": [
    "<h5> Insight 5 (Insight Type):</h5>"
   ]
  },
  {
   "cell_type": "code",
   "execution_count": null,
   "metadata": {},
   "outputs": [],
   "source": [
    "#insight code 10"
   ]
  },
  {
   "cell_type": "markdown",
   "metadata": {},
   "source": [
    "<h5> Insight 6 (Insight Type):</h5>"
   ]
  },
  {
   "cell_type": "code",
   "execution_count": null,
   "metadata": {},
   "outputs": [],
   "source": [
    "#insight code 10"
   ]
  },
  {
   "cell_type": "markdown",
   "metadata": {},
   "source": [
    "<h5> Insight 7 (Insight Type):</h5>"
   ]
  },
  {
   "cell_type": "code",
   "execution_count": null,
   "metadata": {},
   "outputs": [],
   "source": [
    "#insight code 10"
   ]
  },
  {
   "cell_type": "markdown",
   "metadata": {},
   "source": [
    "<h5> Insight 8 (Insight Type):</h5>"
   ]
  },
  {
   "cell_type": "code",
   "execution_count": null,
   "metadata": {},
   "outputs": [],
   "source": [
    "#insight code 10"
   ]
  },
  {
   "cell_type": "markdown",
   "metadata": {},
   "source": [
    "<h5> Insight 9 (Insight Type):</h5>"
   ]
  },
  {
   "cell_type": "code",
   "execution_count": null,
   "metadata": {},
   "outputs": [],
   "source": [
    "#insight code 10"
   ]
  },
  {
   "cell_type": "markdown",
   "metadata": {},
   "source": [
    "<h5> Insight 10 (Insight Type):</h5>"
   ]
  },
  {
   "cell_type": "code",
   "execution_count": null,
   "metadata": {},
   "outputs": [],
   "source": [
    "#insight code 10"
   ]
  },
  {
   "cell_type": "markdown",
   "metadata": {},
   "source": [
    "<h1>Dataset 2: E-Commerce Shipping Data</h1>\n",
    "Author: Prachi Golpani\n",
    "<br>\n",
    "Purpose: The purpose of this dataset is to provide insights based on the shopping data of an international e-commerce business' customers.\n",
    "<br>\n",
    "Shape: This Data set is composed of 12 Columns, and 10999 rows.\n",
    "<br><br>\n",
    "Link:\n",
    "<a href=\"https://www.kaggle.com/datasets/prachi13/customer-analytics\"> E-Commerce Shipping Data</a>\n",
    "<br>\n",
    "<h3>Dataset Feature List: </h3>\n",
    "<ol>\n",
    "    <li>Customer ID:\n",
    "    <br>\n",
    "    Feature Type: Categorical - Nominal\n",
    "    <br>\n",
    "    Description: The Customer ID is a unique ID that is assigned to each customer, allowing the E-commerce business to track the customer's purchases. There are 10999 entries, ranging from 1-10999.\n",
    "    </li>\n",
    "    <br>\n",
    "    <li>Warehouse Block:\n",
    "    <br>\n",
    "    Feature Type: Categorical - Nominal\n",
    "    <br>\n",
    "    Description: A Warehouse block is a division of the shipping e-commerce business' warehouse. There are 5 blocks labelled A,B,C,D,F. The specific block designates where a product was stored in the e-commerce warehouse. \n",
    "        </li>\n",
    "    <br>\n",
    "    <li>Mode of Shipment:\n",
    "    <br>\n",
    "    Feature Type: Categorical - Nominal\n",
    "    <br>\n",
    "    Description: The mode of shipment describes the shipping method used to deliver the product to the customer. There are 3 modes of shipment: road, flight, and ship. \n",
    "        </li>\n",
    "    <br>\n",
    "    <li>Customer Care Calls:\n",
    "    <br>\n",
    "    Feature Type: Numerical - Discrete\n",
    "    <br>\n",
    "    Description: Customer Care Calls provides the number of times a customer called the e-commerce business to inquire about the product, and anything related to the process of purchase and delivery.\n",
    "        </li>\n",
    "    <br>\n",
    "    <li>Customer Rating:\n",
    "    <br>\n",
    "    Feature Type: Categorical - Ordinal\n",
    "    <br>\n",
    "    Description: The customer rating represents the rating given by the customer to the e-commerce business regarding the product(s) purchased, the delivery experience, and the ordering process for that specific order. The rating ranges from 1-5, 1 indicating the most negative experience, and 5 being the most positive experience.\n",
    "        </li>\n",
    "    <br>\n",
    "    <li>Cost of Product:\n",
    "    <br>\n",
    "    Feature Type: Numerical - Continuous\n",
    "    <br>\n",
    "    Description: The cost of the product is the value of the product in USD. \n",
    "        </li>\n",
    "    <br>\n",
    "    <li>Prior Purchases:\n",
    "    <br>\n",
    "    Feature Type: Numerical - Discrete\n",
    "    <br>\n",
    "    Description: Prior Purchases represents the number of times a customer has previously purchased a product from the e-commerce business.\n",
    "        </li>\n",
    "    <br>\n",
    "    <li>Product Importance:\n",
    "    <br>\n",
    "    Feature Type: Categorical - Ordinal\n",
    "    <br>\n",
    "    Description: Product Importance is the level of importance the e-commerce business has placed on a specific product. The importance scale has values: low, medium, and high. Low denoting the lowest importance, medium denoting the mid level importance, and high denoting the most important.\n",
    "        </li>\n",
    "    <br>\n",
    "    <li>Gender:\n",
    "    <br>\n",
    "    Feature Type: Categorical - Nominal (Male/Female)\n",
    "    <br>\n",
    "    Description: The Gender of the customer.\n",
    "        </li>\n",
    "    <br>\n",
    "    <li>Discount Offered:\n",
    "    <br>\n",
    "    Feature Type: Numerical - Discrete\n",
    "    <br>\n",
    "    Description: Discount offered is the percentage reduction in price of the product purchased.\n",
    "        </li>\n",
    "    <br>\n",
    "    <li>Weight In Grams:\n",
    "    <br>\n",
    "    Feature Type: Numerical - Continuous\n",
    "    <br>\n",
    "    Description: The weight of the product measured in grams.\n",
    "        </li>\n",
    "    <br>\n",
    "    <li>Reached on Time:\n",
    "    <br>\n",
    "    Feature Type: Categorical - Nominal (0/1)\n",
    "    <br>\n",
    "    Description: A binary value indicating if the product reached its intended destination on time. 0 means the product did not reach on time, and 1 means that the product did.\n",
    "        </li>\n",
    "</ol>"
   ]
  },
  {
   "cell_type": "code",
   "execution_count": null,
   "metadata": {},
   "outputs": [],
   "source": [
    "# Retrieve Latest version of the e-commerce dataset from kaggle\n",
    "ec_dataset_path = kagglehub.dataset_download(\"prachi13/customer-analytics\")\n",
    "print(\"Path to dataset: \", ec_dataset_path)\n",
    "\n",
    "# Get the path of the dataset csv\n",
    "# Walk along the directory to get the csv filename\n",
    "for root, dirs, files in os.walk(ec_dataset_path):\n",
    "    for filename in files:\n",
    "        ec_dataset_path = os.path.join(ec_dataset_path, filename)\n",
    "\n",
    "# Converting the csv into dataframe\n",
    "ec_dataframe = pd.read_csv(ec_dataset_path)"
   ]
  },
  {
   "cell_type": "markdown",
   "metadata": {},
   "source": [
    "<h2>E-Commerce Dataset Insights:</h2>\n",
    "<h5>Insight 1 (Descriptive): </h5>\n",
    "The distribution of product prices reveals that the majority of the products sold by the e-commerce business fall within the $125-$275 price range."
   ]
  },
  {
   "cell_type": "code",
   "execution_count": null,
   "metadata": {},
   "outputs": [],
   "source": [
    "# Use the newly created dataframe to create a histogram showing the distribution of product prices \n",
    "plt.hist(ec_dataframe[\"Cost_of_the_Product\"], bins = 40, edgecolor='black', color=\"#fa9e4d\")\n",
    "# create scale at bottom of graph\n",
    "plt.xticks(np.arange(100, 315, 25))\n",
    "# graph title, and labelling\n",
    "plt.title(\"Distribution of Product Prices\")\n",
    "plt.xlabel(\"Product Cost ($ USD)\")\n",
    "plt.ylabel(\"Number of Products\")\n",
    "plt.show()"
   ]
  },
  {
   "cell_type": "markdown",
   "metadata": {},
   "source": [
    "\n",
    "<h5>Insight 2 (Descriptive):</h5>\n",
    "The customer ratings of the e-commerce business service and its products are nearly evenly distributed, with the largest difference between ratings (5 and 3) being being just 3.1%."
   ]
  },
  {
   "cell_type": "code",
   "execution_count": null,
   "metadata": {},
   "outputs": [],
   "source": [
    "# Create the initial graph, using the Customer Rating Column\n",
    "graph = sns.countplot(data=ec_dataframe, x =\"Customer_rating\", hue =\"Customer_rating\", palette=\"crest\", legend=False)\n",
    "\n",
    "# Loop over the bar values to annotate\n",
    "for bar in graph.patches:\n",
    "    # create the tuple of x, y coordinates to place the annotation (count of specific category value)\n",
    "    text_coords = (bar.get_xy()[0] + (bar.get_width() / 4), bar.get_height() + 10)\n",
    "    # annotate the graph, using attributes from the current bar\n",
    "    graph.annotate(f'{int(bar.get_height())}', xy=text_coords)\n",
    "# graph title, and labelling\n",
    "plt.title(\"Count of Customer Ratings\")\n",
    "plt.xlabel(\"Customer Rating (1-5)\")\n",
    "plt.ylabel(\"Number of Ratings\")\n",
    "plt.show()"
   ]
  },
  {
   "cell_type": "markdown",
   "metadata": {},
   "source": [
    "<h5> Insight 3 (Descriptive): </h5>\n",
    "The nearly equal late delivery rates for low and medium importance products (40.72%, and 40.95%) suggests that the e-commerce business employs similar delivery processes for both importance categories."
   ]
  },
  {
   "cell_type": "code",
   "execution_count": null,
   "metadata": {},
   "outputs": [],
   "source": [
    "# Create the graph\n",
    "graph = sns.countplot(data=ec_dataframe, x =\"Product_importance\", hue=\"Reached.on.Time_Y.N\")\n",
    "for bar in graph.patches:\n",
    "    # prevents annotations with \"0\" at the bottom.\n",
    "    if bar.get_height() == 0:\n",
    "        break\n",
    "    # create the tuple of x, y coordinates to place the annotation (count of specific category value)\n",
    "    text_coords = (bar.get_xy()[0] + (bar.get_width() / 4), bar.get_height() + 10)\n",
    "    # annotate the graph, using attributes from the current bar\n",
    "    graph.annotate(f'{int(bar.get_height())}', xy=text_coords)\n",
    "# graph legend, title, and labelling\n",
    "plt.legend(title=\"Reached On Time\", labels=[\"False\", \"True\"]) \n",
    "plt.title(\"Product Importance and Delivery Time\")\n",
    "plt.xlabel(\"Product Importance\")\n",
    "plt.ylabel(\"Number of Shipments\")\n",
    "plt.show()"
   ]
  },
  {
   "cell_type": "markdown",
   "metadata": {},
   "source": [
    "Insight 4:"
   ]
  },
  {
   "cell_type": "code",
   "execution_count": null,
   "metadata": {},
   "outputs": [],
   "source": [
    "#insight code 4"
   ]
  },
  {
   "cell_type": "markdown",
   "metadata": {},
   "source": [
    "<h5> Insight 5 (Insight Type):</h5>"
   ]
  },
  {
   "cell_type": "code",
   "execution_count": null,
   "metadata": {},
   "outputs": [],
   "source": [
    "#insight code 5"
   ]
  },
  {
   "cell_type": "markdown",
   "metadata": {},
   "source": [
    "<h5> Insight 6 (Insight Type):</h5>"
   ]
  },
  {
   "cell_type": "code",
   "execution_count": null,
   "metadata": {},
   "outputs": [],
   "source": [
    "#insight code 6"
   ]
  },
  {
   "cell_type": "markdown",
   "metadata": {},
   "source": [
    "<h5> Insight 7 (Insight Type):</h5>"
   ]
  },
  {
   "cell_type": "code",
   "execution_count": null,
   "metadata": {},
   "outputs": [],
   "source": [
    "#insight code 7"
   ]
  },
  {
   "cell_type": "markdown",
   "metadata": {},
   "source": [
    "<h5> Insight 8 (Insight Type):</h5>"
   ]
  },
  {
   "cell_type": "code",
   "execution_count": null,
   "metadata": {},
   "outputs": [],
   "source": [
    "#insight code 8"
   ]
  },
  {
   "cell_type": "markdown",
   "metadata": {},
   "source": [
    "<h5> Insight 9 (Insight Type):</h5>"
   ]
  },
  {
   "cell_type": "code",
   "execution_count": null,
   "metadata": {},
   "outputs": [],
   "source": [
    "#insight code 9"
   ]
  },
  {
   "cell_type": "markdown",
   "metadata": {},
   "source": [
    "<h5> Insight 10 (Insight Type):</h5>"
   ]
  },
  {
   "cell_type": "code",
   "execution_count": null,
   "metadata": {},
   "outputs": [],
   "source": [
    "#insight code 10"
   ]
  }
 ],
 "metadata": {
  "kernelspec": {
   "display_name": ".venv",
   "language": "python",
   "name": "python3"
  },
  "language_info": {
   "codemirror_mode": {
    "name": "ipython",
    "version": 3
   },
   "file_extension": ".py",
   "mimetype": "text/x-python",
   "name": "python",
   "nbconvert_exporter": "python",
   "pygments_lexer": "ipython3",
   "version": "3.13.1"
  }
 },
 "nbformat": 4,
 "nbformat_minor": 2
}
