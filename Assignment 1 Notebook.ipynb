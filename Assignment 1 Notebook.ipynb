{
 "cells": [
  {
   "cell_type": "markdown",
   "metadata": {},
   "source": [
    "# CSI 4142 - Introduction to Data Science\n",
    "# Assignment 1: Exploratory Data Analysis\n",
    "\n",
    "Shacha Parker (300235525)\\\n",
    "Callum Frodsham and (300199446)\\\n",
    "Group 79"
   ]
  },
  {
   "cell_type": "code",
   "execution_count": 27,
   "metadata": {},
   "outputs": [],
   "source": [
    "# Initial Imports. May not all be useful, but worth\n",
    "import pandas as pd\n",
    "import matplotlib.pyplot as plt\n",
    "import seaborn as sns\n",
    "import numpy as np\n",
    "import os\n",
    "import kagglehub"
   ]
  },
  {
   "cell_type": "markdown",
   "metadata": {},
   "source": [
    "<h1 >Dataset 1: Mobile Device Usage and User Behavior</h1>\n",
    "Author: Vala Khorasani\n",
    "<br>\n",
    "\n",
    "Purpose: The purpose of this dataset is to provide insights pertaining to mobile device user behaviour and the connection to their usage patterns. Making use of this dataset, i.e. doing EDA and gaining insights from it would benefit phone manufacturers and marketers wanting to understand which kind of mobile devices certain demographics like, as well as *how* they use the devices.\n",
    "<br>\n",
    "\n",
    "Shape: This Data set is composed of 11 Columns, and 700 rows.\n",
    "<br><br>\n",
    "Link: <a href=\"https://www.kaggle.com/datasets/valakhorasani/mobile-device-usage-and-user-behavior-dataset\"> Mobile Device Usage and User Behavior</a>\n",
    "<br>\n",
    "\n",
    "No defects or large redundancies were detected in the dataset.\n",
    "\n",
    "\n",
    "<br>\n",
    "<h3>Dataset Feature List:</h3>\n",
    "<ol>\n",
    "    <li>User ID\n",
    "    <br>\n",
    "    Feature Type: Categorical - Nominal\n",
    "    <br>\n",
    "    Description: The User ID is a unique ID that is assigned to each mobile device user to track their mobile device usage individually. There are 700 entries, labeled '1' to '700'.\n",
    "        </li>\n",
    "    <br>\n",
    "    <li>Device Model<br>\n",
    "    Feature Type: Categorical - Nominal<br>\n",
    "    Description: Model of the User's smartphone.\n",
    "    </li>\n",
    "    <br>\n",
    "    <li>Operating System<br>\n",
    "    Feature Type: Categorical - Nominal<br>\n",
    "    Description:Operating system running on the mobile device. Only Android or iOS.\n",
    "    </li>\n",
    "    <br>\n",
    "    <li>App Usage Time<br>\n",
    "    Feature Type: Quantitative - Continuous<br>\n",
    "    Description: Total daily time spent using mobile applications, measured in minutes\n",
    "    </li>\n",
    "    <br>\n",
    "    <li>Screen On Time<br>\n",
    "    Feature Type: Quantitative - Continuous<br>\n",
    "    Description: Average daily duration the screen is active, measured in hours\n",
    "    </li>\n",
    "    <br>\n",
    "    <li>Battery Drain<br>\n",
    "    Feature Type: Quantitative - Continuous<br>\n",
    "    Description: Amount of battery consumed daily, measured in milliamp hours (mAh)\n",
    "    </li>\n",
    "    <br>\n",
    "    <li>Number of Apps Installed<br>\n",
    "    Feature Type: Quantitative - Discrete<br>\n",
    "    Description: Total number of applications installed on the device\n",
    "    </li>\n",
    "    <br>\n",
    "    <li>Data Usage<br>\n",
    "    Feature Type: Quantitative - Continuous<br>\n",
    "    Description: Daily mobile data consumption, measured in megabytes (MB)\n",
    "    </li>\n",
    "    <br>\n",
    "    <li>Age<br>\n",
    "    Feature Type: Quantitative - Discrete<br>\n",
    "    Description: Age of the user in years\n",
    "        </li>\n",
    "    <br>\n",
    "    <li>Gender<br>\n",
    "    Feature Type: Categorical - Nominal (Male/Female)<br>\n",
    "    Description: Gender of the user\n",
    "    </li>\n",
    "    <br>\n",
    "    <li>User Behaviour Class<br>\n",
    "    Feature: Categorical - Ordinal<br>\n",
    "    Description: Classification of user behavior based on usage patterns (1 to 5).\n",
    "    </li>\n",
    "</ol>"
   ]
  },
  {
   "cell_type": "code",
   "execution_count": null,
   "metadata": {},
   "outputs": [],
   "source": [
    "# Import dataset from Kaggle\n",
    "# Download latest version\n",
    "mobileDeviceDirectory = kagglehub.dataset_download(\"valakhorasani/mobile-device-usage-and-user-behavior-dataset\")\n",
    "\n",
    "print(\"Path to dataset files:\", mobileDeviceDirectory)\n",
    "\n",
    "mobileDeviceCSV = mobileDeviceDirectory + \"/user_behavior_dataset.csv\"\n",
    "\n",
    "print(\"Path to dataset files:\", mobileDeviceCSV)"
   ]
  },
  {
   "cell_type": "code",
   "execution_count": null,
   "metadata": {},
   "outputs": [],
   "source": [
    "# generate descriptions of the dataset's features\n",
    "data = pd.read_csv(mobileDeviceCSV)\n",
    "\n",
    "display(data)\n",
    "data.describe()"
   ]
  },
  {
   "cell_type": "code",
   "execution_count": null,
   "metadata": {},
   "outputs": [],
   "source": [
    "print(data.iloc[0])"
   ]
  },
  {
   "cell_type": "markdown",
   "metadata": {},
   "source": [
    "<h5>Insight 1 (Diagnostic Analysis):</h5>\n",
    "User Behavior Class is made higher by the partial influence of increasing App Usage Time.\n",
    "\n",
    "I used multivariate analysis comparing the two variables in a countplot with the bars condensed into one bar for better visualization, which still shows the general idea of my insight - App Usage Time is proportional to User Behaviour Class level."
   ]
  },
  {
   "cell_type": "code",
   "execution_count": null,
   "metadata": {},
   "outputs": [],
   "source": [
    "fig = plt.figure(figsize=(15, 10))\n",
    "\n",
    "sns.countplot(x='User Behavior Class', hue='App Usage Time (min/day)', data=data, dodge=False).set_title('User Behavior Class vs App Usage Time (min/day)')"
   ]
  },
  {
   "cell_type": "markdown",
   "metadata": {},
   "source": [
    "<h5> Insight 2 (Diagnostic Analysis):</h5>\n",
    "User Behavior Class is made higher by the partial influence of increasing Number of Apps.\n",
    "\n",
    "It's worth noting this is very similar to insight 1. I used multivariate analysis comparing the two variables in a countplot with the bars condensed into one bar for better visualization, which still shows the general idea of my insight - App Usage Time is proportional to User Behaviour Class level."
   ]
  },
  {
   "cell_type": "code",
   "execution_count": null,
   "metadata": {},
   "outputs": [],
   "source": [
    "fig = plt.figure(figsize=(15, 10))\n",
    "\n",
    "sns.countplot(x='User Behavior Class', hue='Number of Apps Installed', data=data, dodge=False).set_title('User Behavior Class vs Number of Apps Installed')"
   ]
  },
  {
   "cell_type": "markdown",
   "metadata": {},
   "source": [
    "<h5> Insight 3 (Descriptive Analysis):</h5>\n",
    "There are almost 4 times as many Android Users in the Dataset than iOS users.\n",
    "\n",
    "I used Univariate Analysis by a simple count plot grouped by the two categorical values of the Operating System column.\n",
    "\n",
    "554/146 = ~3.8\n",
    "\n",
    "This may qualify for the r3 insight: Univariate Count Plot."
   ]
  },
  {
   "cell_type": "code",
   "execution_count": null,
   "metadata": {},
   "outputs": [],
   "source": [
    "fig = plt.figure(figsize=(5, 5))\n",
    "\n",
    "# Count of each Operating System\n",
    "print(data['Operating System'].value_counts())\n",
    "\n",
    "sns.countplot(x='Operating System', data=data, dodge=False).set_title('Count of each Operating System')"
   ]
  },
  {
   "cell_type": "markdown",
   "metadata": {},
   "source": [
    "<h5> Insight 4 (Diagnostic Analysis):</h5>\n",
    "Higher Screen On Time is correlated with greater Battery Drain.\n",
    "\n",
    "This is bivariate analysis of two numerical categories on a scatterplot.\n",
    "\n",
    "This Insight may qualify for requirement r6 - Bivariate Numerical/Numerical Scatterplot correlation."
   ]
  },
  {
   "cell_type": "code",
   "execution_count": null,
   "metadata": {},
   "outputs": [],
   "source": [
    "sns.scatterplot(x='Screen On Time (hours/day)', y='Battery Drain (mAh/day)', data=data).set_title('Screen On Time (hours/day) Correlation With Battery Drain (mAh/day)')"
   ]
  },
  {
   "cell_type": "markdown",
   "metadata": {},
   "source": [
    "<h5> Insight 5 (Diagnostic Type):</h5>\n",
    "Battery Drain is correlated with the number of Apps Installed on the mobile device.\n",
    "\n",
    "This is bivariate analysis of two numerical categories on a scatterplot - Similar to insight 4."
   ]
  },
  {
   "cell_type": "code",
   "execution_count": null,
   "metadata": {},
   "outputs": [],
   "source": [
    "sns.scatterplot(x='Number of Apps Installed', y='Battery Drain (mAh/day)', data=data).set_title('Battery Drain Correlation with Number of Apps Installed')"
   ]
  },
  {
   "cell_type": "markdown",
   "metadata": {},
   "source": [
    "<h5> Insight 6 (Predictive):</h5>\n",
    "A Samsung Galaxy S21 is more likely to be owned by men than women.\n",
    "\n",
    "I made use of a bivariate count plot splitting the count of device model owners by gender.\n",
    "I came to this reasoning by the fact that the Samsung is the Males' most-owned device, while it is the least-owned by the Females'."
   ]
  },
  {
   "cell_type": "code",
   "execution_count": null,
   "metadata": {},
   "outputs": [],
   "source": [
    "sns.countplot(hue='Device Model', x='Gender', data=data).set_title('Device Model Counts Between Genders')"
   ]
  },
  {
   "cell_type": "markdown",
   "metadata": {},
   "source": [
    "<h5> Insight 7 (Diagnostic):</h5>\n",
    "Battery Drain is correlated with the number of Apps Installed on the mobile device.\n",
    "\n",
    "This is bivariate analysis of two numerical categories on a scatterplot - Similar to the previous scatterplot insights."
   ]
  },
  {
   "cell_type": "code",
   "execution_count": null,
   "metadata": {},
   "outputs": [],
   "source": [
    "sns.scatterplot(x='Data Usage (MB/day)', y='Battery Drain (mAh/day)', data=data).set_title('Data Usage (mb/day) Correlation With Battery Drain (mAh/day)')"
   ]
  },
  {
   "cell_type": "markdown",
   "metadata": {},
   "source": [
    "<h5> Insight 8 (Diagnostic):</h5>\n",
    "Screen On Time has a high correlation with App Usage Time.\n",
    "\n",
    "I used bivariate analysis by a scatter plot of the two categories to show the correlation."
   ]
  },
  {
   "cell_type": "code",
   "execution_count": null,
   "metadata": {},
   "outputs": [],
   "source": [
    "sns.scatterplot(x=\"Screen On Time (hours/day)\", y=\"App Usage Time (min/day)\", data=data).set_title('App Usage Time (min/day) Correlation With Screen On Time (hours/day)')"
   ]
  },
  {
   "cell_type": "markdown",
   "metadata": {},
   "source": [
    "<h5> Insight 9 (Descriptive):</h5>\n",
    "50% of the Users spend about 823 MB of data or less daily.\n",
    "\n",
    "I used a univariate box plot to show the distribution of Data Usages across all users. I also found the median value to get the correct number for the insight."
   ]
  },
  {
   "cell_type": "code",
   "execution_count": null,
   "metadata": {},
   "outputs": [],
   "source": [
    "data['Data Usage (MB/day)'].median()"
   ]
  },
  {
   "cell_type": "code",
   "execution_count": null,
   "metadata": {},
   "outputs": [],
   "source": [
    "sns.boxplot(x='Data Usage (MB/day)', data=data).set_title('Data Usage (MB/day) vs User Behavior Class')\n",
    "data['Data Usage (MB/day)'].describe()\n"
   ]
  },
  {
   "cell_type": "markdown",
   "metadata": {},
   "source": [
    "<h5> Insight 10 (Prescriptive):</h5>\n",
    "To cover 3/4 of the user base's needs for phone battery life, phone manufacturers should make sure their phone can hold at least 2250 mAh of charge for daily use.\n",
    "\n",
    "I used a bivariate analysis through box plot of Device Model and Battery Drain to see how much battery drain most devices go through daily."
   ]
  },
  {
   "cell_type": "code",
   "execution_count": null,
   "metadata": {},
   "outputs": [],
   "source": [
    "sns.boxplot(x='Device Model', y='Battery Drain (mAh/day)', data=data).set_title('Device Model vs Battery Drain (mAh/day)')"
   ]
  },
  {
   "cell_type": "markdown",
   "metadata": {},
   "source": [
    "### Conclusion\n",
    "This dataset contained several insights of all 4 types. Some of its categories were more useful than others. I had found many connections between battery life and other numerical metrics, meanwhile there were little if any correlations that involved the user's Age value. Overall, while I felt there was some lack of correlations to draw from, I still managed to find some interesting ones to display in this report."
   ]
  },
  {
   "cell_type": "markdown",
   "metadata": {},
   "source": [
    "<h1>Dataset 2: E-Commerce Shipping Data</h1>\n",
    "<h2>Introduction:</h2>\n",
    "<p>This exploratory report aims to investigate the E-commerce shipping dataset, and to supply insights that could assist the e-commerce business in optimizing its logistics and customer service. Leveraging bivariate and univariate analysis techniques, this report will attempt to shed light on queries such as: the average discount provided per the number of customer support calls, differences in delivery timeliness per gender, and how product importance affects delivery timeliness.\n",
    "</p>\n",
    "\n",
    "\n",
    "<br>\n",
    "Author: Prachi Golpani\n",
    "<br>\n",
    "Purpose: The purpose of this dataset is to provide insights based on the customer purchase data and shipping data of an international e-commerce business.\n",
    "<br>\n",
    "Shape: This dataset is composed of 12 Columns, and 10999 rows.\n",
    "<br><br>\n",
    "Link:\n",
    "<a href=\"https://www.kaggle.com/datasets/prachi13/customer-analytics\"> E-Commerce Shipping Data</a>\n",
    "<br>\n",
    "<h3>Dataset Feature List: </h3>\n",
    "<ol>\n",
    "    <li>Customer ID:\n",
    "    <br>\n",
    "    Feature Type: Categorical - Nominal\n",
    "    <br>\n",
    "    Description: The Customer ID is a unique ID that is assigned to each customer, allowing the E-commerce business to track the customer's purchases. There are 10999 entries, ranging from 1-10999.\n",
    "    </li>\n",
    "    <br>\n",
    "    <li>Warehouse Block:\n",
    "    <br>\n",
    "    Feature Type: Categorical - Nominal\n",
    "    <br>\n",
    "    Description: A Warehouse block is a division of the shipping e-commerce business' warehouse. There are 5 blocks labelled A,B,C,D,F. The specific block designates where a product was stored in the e-commerce warehouse. \n",
    "        </li>\n",
    "    <br>\n",
    "    <li>Mode of Shipment:\n",
    "    <br>\n",
    "    Feature Type: Categorical - Nominal\n",
    "    <br>\n",
    "    Description: The mode of shipment describes the shipping method used to deliver the product to the customer. There are 3 modes of shipment: road, flight, and ship. \n",
    "        </li>\n",
    "    <br>\n",
    "    <li>Customer Care Calls:\n",
    "    <br>\n",
    "    Feature Type: Numerical - Discrete\n",
    "    <br>\n",
    "    Description: Customer Care Calls provides the number of times a customer called the e-commerce business to inquire about the product, and anything related to the process of purchase and delivery.\n",
    "        </li>\n",
    "    <br>\n",
    "    <li>Customer Rating:\n",
    "    <br>\n",
    "    Feature Type: Categorical - Ordinal\n",
    "    <br>\n",
    "    Description: The customer rating represents the rating given by the customer to the e-commerce business regarding the product(s) purchased, the delivery experience, and the ordering process for that specific order. The rating ranges from 1-5, 1 indicating the most negative experience, and 5 being the most positive experience.\n",
    "        </li>\n",
    "    <br>\n",
    "    <li>Cost of Product:\n",
    "    <br>\n",
    "    Feature Type: Numerical - Continuous\n",
    "    <br>\n",
    "    Description: The cost of the product is the value of the product in USD. \n",
    "        </li>\n",
    "    <br>\n",
    "    <li>Prior Purchases:\n",
    "    <br>\n",
    "    Feature Type: Numerical - Discrete\n",
    "    <br>\n",
    "    Description: Prior Purchases represents the number of times a customer has previously purchased a product from the e-commerce business.\n",
    "        </li>\n",
    "    <br>\n",
    "    <li>Product Importance:\n",
    "    <br>\n",
    "    Feature Type: Categorical - Ordinal\n",
    "    <br>\n",
    "    Description: Product Importance is the level of importance the e-commerce business has placed on a specific product. The importance scale has values: low, medium, and high. Low denoting the lowest importance, medium denoting the mid level importance, and high denoting the most important.\n",
    "        </li>\n",
    "    <br>\n",
    "    <li>Gender:\n",
    "    <br>\n",
    "    Feature Type: Categorical - Nominal (Male/Female)\n",
    "    <br>\n",
    "    Description: The Gender of the customer.\n",
    "        </li>\n",
    "    <br>\n",
    "    <li>Discount Offered:\n",
    "    <br>\n",
    "    Feature Type: Numerical - Discrete\n",
    "    <br>\n",
    "    Description: Discount offered is the percentage reduction in price of the product purchased.\n",
    "        </li>\n",
    "    <br>\n",
    "    <li>Weight In Grams:\n",
    "    <br>\n",
    "    Feature Type: Numerical - Continuous\n",
    "    <br>\n",
    "    Description: The weight of the product measured in grams.\n",
    "        </li>\n",
    "    <br>\n",
    "    <li>Reached on Time:\n",
    "    <br>\n",
    "    Feature Type: Categorical - Nominal (0/1)\n",
    "    <br>\n",
    "    Description: A binary value indicating if the product reached its intended destination on time. 0 means the product did reach on time, and 1 means that the product did not.\n",
    "        </li>\n",
    "</ol>"
   ]
  },
  {
   "cell_type": "code",
   "execution_count": null,
   "metadata": {},
   "outputs": [],
   "source": [
    "# Retrieve Latest version of the e-commerce dataset from kaggle\n",
    "ec_dataset_path = kagglehub.dataset_download(\"prachi13/customer-analytics\")\n",
    "print(\"Path to dataset: \", ec_dataset_path)\n",
    "\n",
    "# Get the path of the dataset csv\n",
    "# Walk along the directory to get the csv filename\n",
    "for root, dirs, files in os.walk(ec_dataset_path):\n",
    "    for filename in files:\n",
    "        ec_dataset_path = os.path.join(ec_dataset_path, filename)\n",
    "\n",
    "# Converting the csv into dataframe\n",
    "ec_dataframe = pd.read_csv(ec_dataset_path)\n",
    "\n",
    "# Get the dataset loaded\n",
    "ec_dataset = pd.read_csv(ec_dataset_path)"
   ]
  },
  {
   "cell_type": "markdown",
   "metadata": {},
   "source": [
    "<h2>E-Commerce Dataset Insights:</h2>"
   ]
  },
  {
   "cell_type": "markdown",
   "metadata": {},
   "source": [
    "<h4>Insight 1 (Descriptive): </h4>\n",
    "The distribution of product prices reveals that the majority of the products sold by the e-commerce business fall within the $125-$275 price range.\n",
    "<br><br>\n",
    "Analysis Type (R1):\n",
    "<br>\n",
    "The type of analysis used to arrive to this insight was a Univariate Analysis. Specifically, a distribution of the sold product price, to the amount of products sold at that price."
   ]
  },
  {
   "cell_type": "code",
   "execution_count": null,
   "metadata": {},
   "outputs": [],
   "source": [
    "#Insight 1 code:\n",
    "# Use the newly created dataframe to create a histogram showing the distribution of product prices \n",
    "sns.histplot(ec_dataframe[\"Cost_of_the_Product\"], bins = 40, color=\"#fa9e4d\")\n",
    "# create scale at bottom of graph\n",
    "plt.xticks(np.arange(100, 315, 25))\n",
    "# graph title, and labelling\n",
    "plt.title(\"Distribution of Product Prices\")\n",
    "plt.xlabel(\"Product Cost ($ USD)\")\n",
    "plt.ylabel(\"Number of Products\")\n",
    "plt.show()"
   ]
  },
  {
   "cell_type": "markdown",
   "metadata": {},
   "source": [
    "<h4>Insight 2 (Descriptive):</h4>\n",
    "The customer ratings of the e-commerce business service and its products are nearly evenly distributed, with the largest difference between ratings (3 and 2) being being just 3.41%. (2239 / 2165)\n",
    "<br><br>\n",
    "Analysis Type (R2):\n",
    "<br>\n",
    "A bivariate analysis was used to arrive at this conclusion. A categorical countplot was the specific analysis method employed."
   ]
  },
  {
   "cell_type": "code",
   "execution_count": null,
   "metadata": {},
   "outputs": [],
   "source": [
    "#Insight 2 code:\n",
    "# Create the initial graph, using the Customer Rating Column\n",
    "graph = sns.countplot(data=ec_dataframe, x =\"Customer_rating\", hue =\"Customer_rating\", palette=\"crest\", legend=False, edgecolor=\"black\")\n",
    "\n",
    "# Loop over the bar values to annotate\n",
    "for bar in graph.containers:\n",
    "    graph.bar_label(bar, label_type=\"edge\")\n",
    "# graph title, and labelling\n",
    "plt.title(\"Count of Customer Ratings\")\n",
    "plt.xlabel(\"Customer Rating (1-5)\")\n",
    "plt.ylabel(\"Number of Ratings\")\n",
    "plt.show()"
   ]
  },
  {
   "cell_type": "markdown",
   "metadata": {},
   "source": [
    "<h4> Insight 3 (Diagnostic): </h4>\n",
    "Products with a high-importance factor show a worse late delivery percentage (64.97%), compared to low- and medium-importance products (59.27%, 59.04%) which indicates that the e-commerce business does not actually prioritize their high importance products as much as their low and medium importance products.\n",
    "<br><br>\n",
    "Analysis Type (R5):\n",
    "<br>\n",
    "The type of analysis used to arrive to this insight was a Bivariate Analysis. Specifically, it was a categorical comparison with the two features being the product importance, and reached on time status."
   ]
  },
  {
   "cell_type": "code",
   "execution_count": null,
   "metadata": {},
   "outputs": [],
   "source": [
    "# Insight 3 code:\n",
    "# Create the graph\n",
    "graph = sns.countplot(data=ec_dataframe, x =\"Product_importance\", hue=\"Reached.on.Time_Y.N\", edgecolor=\"black\")\n",
    "\n",
    "# Annotate bars\n",
    "for bar in graph.containers:\n",
    "    graph.bar_label(bar, label_type=\"edge\")\n",
    "importance_counts = ec_dataframe.groupby(\"Product_importance\")[\"Reached.on.Time_Y.N\"].value_counts()\n",
    "late_h, on_time_h = importance_counts[\"high\"]\n",
    "late_m, on_time_m = importance_counts[\"medium\"]\n",
    "late_l, on_time_l = importance_counts[\"low\"]\n",
    "print(\"High importance late delivery percentage: \", str((late_h / (late_h + on_time_h))*100)[0:5], \"%\")\n",
    "print(\"Medium importance late delivery percentage: \", str((late_m / (late_m + on_time_m))*100)[0:5], \"%\")\n",
    "print(\"Low importance late delivery percentage: \", str((late_l / (late_l + on_time_l))*100)[0:5], \"%\")\n",
    "# graph legend, title, and labelling\n",
    "plt.legend(title=\"Reached On Time\", labels=[\"True\", \"False\"]) \n",
    "plt.title(\"Product Importance and Delivery Time\")\n",
    "plt.xlabel(\"Product Importance\")\n",
    "plt.ylabel(\"Number of Deliveries\")\n",
    "plt.show()"
   ]
  },
  {
   "cell_type": "markdown",
   "metadata": {},
   "source": [
    "<h4> Insight 4 (Prescriptive):</h4>\n",
    "Based on the positive correlation between the average product cost and the number of care calls, the e-commmerce business should optimize the customer support system to reduce costly customer care interactions.\n",
    "<br><br>\n",
    "Analysis Type (R7):\n",
    "<br>\n",
    "A bivariate analysis was employed, wherein the customer care calls feature was treated as a categorical feature, and the product cost feature was averaged per number of customer care calls to reveal a trend. This average price distribution was plotted using a barplot."
   ]
  },
  {
   "cell_type": "code",
   "execution_count": null,
   "metadata": {},
   "outputs": [],
   "source": [
    "# Insight 4 code:\n",
    "# Get the average price of the product cost for the amount of care calls made\n",
    "avg = ec_dataframe.groupby(\"Customer_care_calls\")[\"Cost_of_the_Product\"].mean().reset_index()\n",
    "\n",
    "# Create barplot\n",
    "graph = sns.barplot(data=avg, x =\"Customer_care_calls\", y=\"Cost_of_the_Product\", hue=\"Customer_care_calls\", palette=\"coolwarm\", legend=False, edgecolor=\"black\")\n",
    "\n",
    "# Annotate bars with their values\n",
    "for bar in graph.containers:\n",
    "    graph.bar_label(bar, label_type=\"edge\")\n",
    "\n",
    "# add title and labels\n",
    "plt.title(\"Average Product Cost Per Number of Care Calls\")\n",
    "plt.ylabel(\"Average Product Cost\")\n",
    "plt.xlabel(\"Number of Customer Care Calls\")\n",
    "plt.show()"
   ]
  },
  {
   "cell_type": "markdown",
   "metadata": {},
   "source": [
    "<h4> Insight 5 (Diagnostic):</h4>\n",
    "The on-time delivery rate is the same for both men and women, indicating that the e-commerce business does not have an inherent bias for either gender. \n",
    "<br><br>\n",
    "Analysis Type (R4):\n",
    "<br>\n",
    "The method of analysis employed was a bivariate categorical analysis where each category only has two values. A countplot was used to visualize the frequency of each value."
   ]
  },
  {
   "cell_type": "code",
   "execution_count": null,
   "metadata": {},
   "outputs": [],
   "source": [
    "# insight code 5\n",
    "# create Graph\n",
    "graph = sns.countplot(data=ec_dataframe, x=\"Gender\", hue=\"Reached.on.Time_Y.N\", palette=[\"#9100DB\", \"#AADB00\"], width=0.5, edgecolor=\"black\")\n",
    "\n",
    "# annotate graph\n",
    "for bar in graph.containers:\n",
    "    graph.bar_label(bar, label_type=\"edge\")\n",
    "\n",
    "# add title, and labels\n",
    "plt.legend(title=\"Reached On Time\", labels=[\"True\", \"False\"])\n",
    "plt.title(\"Timely Delivery for Each Sex\")\n",
    "plt.ylabel(\"Number of Deliveries\")\n",
    "plt.xlabel(\"Sex (M/F)\")\n",
    "plt.show()"
   ]
  },
  {
   "cell_type": "markdown",
   "metadata": {},
   "source": [
    "<h4> Insight 6 (Diagnostic):</h4>\n",
    "Since the average percentage discount and the number of care calls is negatively correlated the e-commerce business might be providing smaller discounts to frequent callers as a means of conflict resolution.\n",
    "<br><br>\n",
    "Analysis Type (R7):\n",
    "<br>\n",
    "A bivariate analysis was used, wherein the customer care calls feature was treated as a categorical feature, and the discount offered feature was averaged per number of customer care calls to reveal a trend. The trend was visualized using a barplot, with customer care calls on the x-axis, and average discount lying on the y-axis."
   ]
  },
  {
   "cell_type": "code",
   "execution_count": null,
   "metadata": {},
   "outputs": [],
   "source": [
    "# get the average of the customer care calls to the discounts offered\n",
    "average_of_p_to_imp = ec_dataframe.groupby(\"Customer_care_calls\")[\"Discount_offered\"].mean().reset_index()\n",
    "\n",
    "# Create the graph\n",
    "graph = sns.barplot(data = average_of_p_to_imp, \n",
    "                    x=\"Customer_care_calls\",\n",
    "                    y = \"Discount_offered\", \n",
    "                    hue=\"Customer_care_calls\", \n",
    "                    palette=\"summer_r\", \n",
    "                    width=0.6,\n",
    "                    edgecolor=\"black\"\n",
    "                    )\n",
    "\n",
    "# add bar values (annotations)\n",
    "for bar in graph.containers:\n",
    "    graph.bar_label(bar)\n",
    "\n",
    "# display title, and labels\n",
    "plt.title(\"Average Discount Percentage to Number of Care Calls\")\n",
    "plt.ylabel(\"Average Discount Percentage\")\n",
    "plt.xlabel(\"Customer Care Calls\")\n",
    "plt.show()"
   ]
  },
  {
   "cell_type": "markdown",
   "metadata": {},
   "source": [
    "<h4> Insight 7 (Prescriptive):</h4>\n",
    "The sales data shows that there are two distinct purchasing patterns indicating strong demand for products weighing 1000-2000g and 4000-6000g respectively, the e-commerce business should optimize their sales strategy to continue focusing on these product categories. \n",
    "<br><br>\n",
    "Analysis Type (R1):\n",
    "<br>\n",
    "A univariate analysis method was conducted to visualize the product weight distrubution.  "
   ]
  },
  {
   "cell_type": "code",
   "execution_count": null,
   "metadata": {},
   "outputs": [],
   "source": [
    "# insight code 7\n",
    "# create the graph\n",
    "graph = sns.histplot(data=ec_dataframe, x=\"Weight_in_gms\", kde=True, color=\"red\", bins=70)\n",
    "\n",
    "# Graph labels\n",
    "plt.title(\"Product Weight Distribution\")\n",
    "plt.ylabel(\"Number of Products Sold\")\n",
    "plt.xlabel(\"Product Weight (g)\")\n",
    "plt.show()\n"
   ]
  },
  {
   "cell_type": "markdown",
   "metadata": {},
   "source": [
    "<h4> Insight 8 (Descriptive):</h4>\n",
    "Warehouse block F processes almost exactly double the the products compared to blocks A to D, this could suggest that warehouse block F has a greater capacity, or greater efficiency in processing products.\n",
    "<br><br>\n",
    "Analysis Type (R2):\n",
    "<br>\n",
    "A univariate analysis method was employed, and plotted with a countplot to count the number of products sold per warehouse block. "
   ]
  },
  {
   "cell_type": "code",
   "execution_count": null,
   "metadata": {},
   "outputs": [],
   "source": [
    "# insight code 8\n",
    "# Create the graph for insight 8\n",
    "graph = sns.countplot(data=ec_dataframe, x=\"Warehouse_block\", hue =\"Warehouse_block\", palette=\"inferno\", width=0.5, edgecolor=\"black\")\n",
    "\n",
    "# annotate the bars\n",
    "for bar in graph.containers:\n",
    "    graph.bar_label(bar)\n",
    "\n",
    "# add labels and title\n",
    "plt.title(\"Number of Products Sold Per Warehouse Block\")\n",
    "plt.ylabel(\"Number of Products Sold\")\n",
    "plt.xlabel(\"Warehouse Block\")\n",
    "plt.show()\n"
   ]
  },
  {
   "cell_type": "markdown",
   "metadata": {},
   "source": [
    "<h4> Insight 9 (Diagnostic):</h4>\n",
    "The e-commerce business provides approximately 13% greater discounts on average for products that did not reach on time compared to those that did reach on time, this is likely due to the fact that customers will leave negative reviews if their products are not delivered in a timely manner.\n",
    "<br><br>\n",
    "Analysis Type (R7):\n",
    "<br>\n",
    "A bivariate analysis was conducted by calculating the average percent discount for each value belonging to the reached on time categorical feature. The values were visualized using a barplot."
   ]
  },
  {
   "cell_type": "code",
   "execution_count": null,
   "metadata": {},
   "outputs": [],
   "source": [
    "#insight code 9\n",
    "# Create a map to convert the values from true to false using map\n",
    "true_false_map = {0:True, 1:False}\n",
    "# create deep copy, for sequential runs, and no NaN issues\n",
    "ec_copy = ec_dataframe.copy(deep=True)\n",
    "# map the values\n",
    "ec_copy[\"Reached.on.Time_Y.N\"] = ec_copy[\"Reached.on.Time_Y.N\"].map(true_false_map)\n",
    "# Get the average of the discount for each reached on time\n",
    "avg = ec_copy.groupby(\"Reached.on.Time_Y.N\")[\"Discount_offered\"].mean().reset_index()\n",
    "# Graph it\n",
    "graph = sns.barplot(data = avg, x=\"Reached.on.Time_Y.N\", y=\"Discount_offered\", hue=\"Reached.on.Time_Y.N\", width=0.4, palette=\"mako_r\", edgecolor=\"black\")\n",
    "# annotate bars with their value\n",
    "for bar in graph.containers:\n",
    "    graph.bar_label(bar)\n",
    "# labels and titles\n",
    "plt.legend(title=\"Reached on Time\")\n",
    "plt.title(\"Average Discount For Reached on Time Status\")\n",
    "plt.ylabel(\"Average Percent Discount\")\n",
    "plt.xlabel(\"Reached on Time (T/F)\")\n",
    "plt.show()"
   ]
  },
  {
   "cell_type": "markdown",
   "metadata": {},
   "source": [
    "<h4> Insight 10 (Predictive):</h4>\n",
    "With an on-time delivery rate of approximately 40% and a late-delivery rate of 60%, the e-commmerce business could lose customers if the delivery-time issues are left unresolved. \n",
    "<br><br>\n",
    "Analysis Type (R1):\n",
    "<br>\n",
    "A univariate analysis was conducted to visualize the frequency of the reached on time feature's binary values using a countplot."
   ]
  },
  {
   "cell_type": "code",
   "execution_count": null,
   "metadata": {},
   "outputs": [],
   "source": [
    "#insight code 10\n",
    "# Create a map to convert the values from true to false using map\n",
    "true_false_map = {0:True, 1:False}\n",
    "# create deep copy, for sequential runs, and no NaN issues\n",
    "ec_copy = ec_dataframe.copy(deep=True)\n",
    "# map the values\n",
    "ec_copy[\"Reached.on.Time_Y.N\"] = ec_copy[\"Reached.on.Time_Y.N\"].map(true_false_map)\n",
    "# Create graph using copy\n",
    "graph = sns.countplot(data = ec_copy, x= \"Reached.on.Time_Y.N\", edgecolor=\"black\", width=0.5)\n",
    "# get calculation for percentage\n",
    "not_on_time, on_time  = ec_dataframe.value_counts(\"Reached.on.Time_Y.N\")\n",
    "print(\"Percent of Deliveries Reaching on time: \" + str((on_time / (on_time + not_on_time))*100)[0:5] + \"%\")\n",
    "# Annotate Graph\n",
    "for bar in graph.containers:\n",
    "    graph.bar_label(bar)\n",
    "# title and labels\n",
    "plt.title(\"Number of Deliveries Reaching on Time\")\n",
    "plt.ylabel(\"Number of Deliveries\")\n",
    "plt.xlabel(\"Reached on Time (T/F)\")\n",
    "plt.show()"
   ]
  },
  {
   "cell_type": "markdown",
   "metadata": {},
   "source": [
    "<h2>Conclusion</h2>\n",
    "<p>The insights provided have made it clear that the e-commerce business has room to optimize its logistical and customer support related processes. Concerning logistical processes, the e-commerce business needs to better their percentage of late deliveries, with approximately 59.77% of deliveries not reaching their target destination on time. This is coupled with the fact that the average discount provided for late deliveries is approximately 13% greater than that of timely deliveries. Offering large discounts on more than 59.77% deliveries is costly, and affects the profitability of the business. To improve the delivery time, the business could investigate their shipping partners, and perhaps search for new ones. Looking inward, the e-commerce business could perhaps find a way to spread the load amongst all of their warehouse blocks more efficiently since block F manages 50% more products than any of the other blocks individually. If block F is an operational bottleneck, then average shipping times could be improved. Relating to more delivery logistics, the business has assigned a factor of importance on their products. Their “high” importance products arrive late 64.97% of the time while their low to medium importance products arrive late 59.27% and 59.04% of the time. The e-commerce business should be prioritizing the high importance products more so than the low to medium importance products to ensure customer satisfaction and retention. The customer service portion of the business has room for optimizations as well. Given that the average number of care calls increases the more expensive the product is, the business should enact methods to ensure customers who purchase pricier products have their needs met earlier to avoid costly repeat customer service interactions. Overall. by addressing these logistical and customer service challenges the e-commerce business could position itself well to drive profitability and customer retention into the future.</p>"
   ]
  },
  {
   "cell_type": "markdown",
   "metadata": {},
   "source": [
    "<h2>Dataset 2 References:</h2>\n",
    "<ul>\n",
    "<li>How to annotate bar graph bars: <a href=\"https://stackoverflow.com/questions/64780251/how-to-annotate-a-seaborn-barplot-with-the-aggregated-value\">Annotating Graph Bars (stackoverflow)</a></li>\n",
    "<li>Refresher to help calculate the mean of a category: <a href=\"https://www.geeksforgeeks.org/pandas-groupby/?ref=lbp\">geeksforgeeks Pandas groupby</a></li>\n",
    "<li>Fun colour choices: <a href=\"https://matplotlib.org/stable/users/explain/colors/colormaps.html\">Matplotlib Docs Colormaps</a></li>\n",
    "<li>General Matplotlib info: <a href=\"https://matplotlib.org/stable/index.html\">Matplotlib Documentation</a></li>\n",
    "<li>General Seaborn info:<a href=\"https://seaborn.pydata.org/api.html\">Seaborn Documentation</a></li>\n",
    "</ul>\n"
   ]
  }
 ],
 "metadata": {
  "kernelspec": {
   "display_name": "venv",
   "language": "python",
   "name": "python3"
  },
  "language_info": {
   "codemirror_mode": {
    "name": "ipython",
    "version": 3
   },
   "file_extension": ".py",
   "mimetype": "text/x-python",
   "name": "python",
   "nbconvert_exporter": "python",
   "pygments_lexer": "ipython3",
   "version": "3.12.4"
  }
 },
 "nbformat": 4,
 "nbformat_minor": 2
}
