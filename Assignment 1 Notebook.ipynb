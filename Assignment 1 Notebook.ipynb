{
 "cells": [
  {
   "cell_type": "markdown",
   "metadata": {},
   "source": [
    "# CSI 4142 - Introduction to Data Science\n",
    "# Assignment 1: Exploratory Data Analysis\n",
    "\n",
    "Shacha Parker (300235525)\\\n",
    "Callum Frodsham and (300199446)\\\n",
    "Group XX <- Are there even group numbers?"
   ]
  },
  {
   "cell_type": "markdown",
   "metadata": {},
   "source": [
    "## Analysis Reasoning\n",
    "We're doing the EDA on the following two datasets to familiarize ourselves with the process. (more text here)"
   ]
  },
  {
   "cell_type": "markdown",
   "metadata": {},
   "source": [
    "<h1 >Dataset 1: Mobile Device Usage and User Behavior</h1>\n",
    "Author: Vala Khorasani\n",
    "<br>\n",
    "Purpose: The purpose of this dataset is to provide insights pertaining to mobile device user behaviour and the connection to their usage patterns.\n",
    "<br>\n",
    "Shape: This Data set is composed of 11 Columns, and 700 rows.\n",
    "<br><br>\n",
    "Link: <a href=\"https://www.kaggle.com/datasets/valakhorasani/mobile-device-usage-and-user-behavior-dataset\"> Mobile Device Usage and User Behavior</a>\n",
    "<br><br>\n",
    "Dataset Feature List:\n",
    "<ol>\n",
    "    <li>Customer ID:\n",
    "    <br>\n",
    "    Feature Type: Categorical\n",
    "    <br>\n",
    "    Description: The Customer ID is a unique ID that is assigned to each customer, allowing the E-commerce business to track the customer's purchases.\n",
    "        </li>\n",
    "    <li></li>\n",
    "    <li></li>\n",
    "    <li></li>\n",
    "    <li></li>\n",
    "    <li></li>\n",
    "    <li></li>\n",
    "    <li></li>\n",
    "    <li></li>\n",
    "    <li></li>\n",
    "    <li></li>\n",
    "</ol>"
   ]
  },
  {
   "cell_type": "markdown",
   "metadata": {},
   "source": [
    "<h1>Dataset 2: E-Commerce Shipping Data</h1>\n",
    "Author: Prachi Golpani\n",
    "<br>\n",
    "Purpose: The purpose of this dataset is to provide insights based on the shopping data of an international e-commerce business' customers.\n",
    "<br>\n",
    "Shape: This Data set is composed of 12 Columns, and 10999 rows.\n",
    "<br><br>\n",
    "Link:\n",
    "<a href=\"https://www.kaggle.com/datasets/prachi13/customer-analytics\"> E-Commerce Shipping Data</a>\n",
    "<br><br>\n",
    "Dataset Feature List:\n",
    "<ol>\n",
    "    <li></li>\n",
    "    <li></li>\n",
    "    <li></li>\n",
    "    <li></li>\n",
    "    <li></li>\n",
    "    <li></li>\n",
    "    <li></li>\n",
    "    <li></li>\n",
    "    <li></li>\n",
    "    <li></li>\n",
    "    <li></li>\n",
    "    <li></li>\n",
    "</ol>"
   ]
  }
 ],
 "metadata": {
  "kernelspec": {
   "display_name": "venv",
   "language": "python",
   "name": "python3"
  },
  "language_info": {
   "name": "python",
   "version": "3.12.4"
  }
 },
 "nbformat": 4,
 "nbformat_minor": 2
}
